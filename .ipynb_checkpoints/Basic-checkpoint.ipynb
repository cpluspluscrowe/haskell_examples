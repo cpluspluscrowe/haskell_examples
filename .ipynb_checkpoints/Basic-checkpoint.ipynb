{
 "cells": [
  {
   "cell_type": "code",
   "execution_count": 1,
   "metadata": {},
   "outputs": [
    {
     "data": {
      "text/plain": [
       "Hello World"
      ]
     },
     "metadata": {},
     "output_type": "display_data"
    }
   ],
   "source": [
    "putStrLn \"Hello World\""
   ]
  },
  {
   "cell_type": "code",
   "execution_count": 2,
   "metadata": {},
   "outputs": [],
   "source": [
    "badAdd :: (Num a) => [a] -> a\n",
    "badAdd (x:y:z:[]) = x + y + z\n",
    "--badAdd[100,20]"
   ]
  },
  {
   "cell_type": "markdown",
   "metadata": {},
   "source": [
    "**Fibonacci Example**"
   ]
  },
  {
   "cell_type": "code",
   "execution_count": 3,
   "metadata": {},
   "outputs": [],
   "source": [
    "fib :: Integer -> Integer\n",
    "fib 0 = 0\n",
    "fib 1 = 1\n",
    "fib n = fib (n-1) + fib (n-2)"
   ]
  },
  {
   "cell_type": "code",
   "execution_count": 4,
   "metadata": {},
   "outputs": [
    {
     "data": {
      "text/plain": [
       "f(0) = 0"
      ]
     },
     "metadata": {},
     "output_type": "display_data"
    },
    {
     "data": {
      "text/plain": [
       "f(1) = 1"
      ]
     },
     "metadata": {},
     "output_type": "display_data"
    },
    {
     "data": {
      "text/plain": [
       "f(5) = 5"
      ]
     },
     "metadata": {},
     "output_type": "display_data"
    },
    {
     "data": {
      "text/plain": [
       "f(10) = 55"
      ]
     },
     "metadata": {},
     "output_type": "display_data"
    },
    {
     "data": {
      "text/plain": [
       "f(20) = 6765"
      ]
     },
     "metadata": {},
     "output_type": "display_data"
    }
   ],
   "source": [
    "putStrLn $ \"f(0) = \" ++ show (fib 0)\n",
    "putStrLn $ \"f(1) = \" ++ show (fib 1)\n",
    "putStrLn $ \"f(5) = \" ++ show(fib 5)\n",
    "putStrLn $ \"f(10) = \" ++ show(fib 10)\n",
    "putStrLn $ \"f(20) = \" ++ show(fib 20)"
   ]
  },
  {
   "cell_type": "markdown",
   "metadata": {},
   "source": [
    "**Really nifty recursion!**"
   ]
  },
  {
   "cell_type": "code",
   "execution_count": 7,
   "metadata": {},
   "outputs": [
    {
     "data": {
      "text/plain": [
       "True"
      ]
     },
     "metadata": {},
     "output_type": "display_data"
    }
   ],
   "source": [
    "isEven 2 = True\n",
    "isEven n = isOdd(n-1)\n",
    "isOdd 1 = True\n",
    "isOdd n = isEven(n-1)\n",
    "isOdd 575"
   ]
  },
  {
   "cell_type": "markdown",
   "metadata": {},
   "source": [
    "**Recursive reverse of a list**\n",
    "\n",
    "This uses an internam reverse' function to do the work\n",
    "\n",
    "    It takes two arguments: First is the list to be reversed and the second is where we store the result\n",
    "    \n",
    "Base case 1 is an empty list.  Second case is to add the first element to the head of the start list."
   ]
  },
  {
   "cell_type": "code",
   "execution_count": 13,
   "metadata": {},
   "outputs": [],
   "source": [
    "reverse :: [a] -> [a]\n",
    "reverse xs = reverse' xs [] where\n",
    "  reverse' :: [a] -> [a] -> [a]\n",
    "  reverse' [] rs = rs\n",
    "  reverse' (x:xs) rs = reverse' xs (x:rs)"
   ]
  },
  {
   "cell_type": "code",
   "execution_count": 16,
   "metadata": {},
   "outputs": [
    {
     "data": {
      "text/plain": [
       "Reverse of [1,2,3,4,5,6,7,8,9,10] is [10,9,8,7,6,5,4,3,2,1]"
      ]
     },
     "metadata": {},
     "output_type": "display_data"
    }
   ],
   "source": [
    "let inp = [1..10]\n",
    "rs = reverse inp\n",
    "putStrLn $ \"Reverse of \" ++ show inp ++ \" is \" ++ show rs"
   ]
  },
  {
   "cell_type": "code",
   "execution_count": null,
   "metadata": {},
   "outputs": [],
   "source": []
  },
  {
   "cell_type": "code",
   "execution_count": null,
   "metadata": {},
   "outputs": [],
   "source": []
  }
 ],
 "metadata": {
  "kernelspec": {
   "display_name": "Haskell",
   "language": "haskell",
   "name": "haskell"
  },
  "language_info": {
   "codemirror_mode": "ihaskell",
   "file_extension": ".hs",
   "name": "haskell",
   "version": "8.2.2"
  }
 },
 "nbformat": 4,
 "nbformat_minor": 2
}
